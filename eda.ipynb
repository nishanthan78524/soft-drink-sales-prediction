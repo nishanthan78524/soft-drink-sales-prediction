{
 "cells": [
  {
   "cell_type": "code",
   "execution_count": 1,
   "id": "48638759",
   "metadata": {},
   "outputs": [],
   "source": [
    "import pandas as pd\n",
    "import numpy as np\n",
    "import seaborn as sns\n",
    "import matplotlib.pyplot as plt"
   ]
  },
  {
   "cell_type": "code",
   "execution_count": 2,
   "id": "5c12edd3",
   "metadata": {},
   "outputs": [],
   "source": [
    "df = pd.read_csv('data/final_data/model_data.csv')"
   ]
  },
  {
   "cell_type": "code",
   "execution_count": 3,
   "id": "94bf7bfb",
   "metadata": {},
   "outputs": [
    {
     "name": "stdout",
     "output_type": "stream",
     "text": [
      "    Sale Date       Barcode                     Product Name  Quantity Sold  \\\n",
      "0  2023-01-01  4.008411e+07              KINDER SURPRISE T72            1.0   \n",
      "1  2023-01-01  5.053990e+12  PRINGLES SALT & VINEGAR PM 1.00            2.0   \n",
      "2  2023-01-01  5.035766e+12                     FOSTERS 10PK            1.0   \n",
      "3  2023-01-01  5.035766e+12            BIRRA MORETTI LGE NRB            3.0   \n",
      "4  2023-01-01  5.035230e+12                     MILK 1 LITRE            3.0   \n",
      "\n",
      "   tempmax  tempmin  temp  feelslikemax  feelslikemin  feelslike  ...  \\\n",
      "0     10.7      7.1   9.0          10.7           4.7        6.9  ...   \n",
      "1     10.7      7.1   9.0          10.7           4.7        6.9  ...   \n",
      "2     10.7      7.1   9.0          10.7           4.7        6.9  ...   \n",
      "3     10.7      7.1   9.0          10.7           4.7        6.9  ...   \n",
      "4     10.7      7.1   9.0          10.7           4.7        6.9  ...   \n",
      "\n",
      "   sealevelpressure  cloudcover  visibility  solarradiation  solarenergy  \\\n",
      "0            1006.8        65.3        21.0            16.0          1.3   \n",
      "1            1006.8        65.3        21.0            16.0          1.3   \n",
      "2            1006.8        65.3        21.0            16.0          1.3   \n",
      "3            1006.8        65.3        21.0            16.0          1.3   \n",
      "4            1006.8        65.3        21.0            16.0          1.3   \n",
      "\n",
      "  uvindex  severerisk              sunrise               sunset  moonphase  \n",
      "0       1        10.0  2023-01-01T08:15:54  2023-01-01T16:12:00       0.31  \n",
      "1       1        10.0  2023-01-01T08:15:54  2023-01-01T16:12:00       0.31  \n",
      "2       1        10.0  2023-01-01T08:15:54  2023-01-01T16:12:00       0.31  \n",
      "3       1        10.0  2023-01-01T08:15:54  2023-01-01T16:12:00       0.31  \n",
      "4       1        10.0  2023-01-01T08:15:54  2023-01-01T16:12:00       0.31  \n",
      "\n",
      "[5 rows x 31 columns]\n"
     ]
    }
   ],
   "source": [
    "print(df.head())"
   ]
  },
  {
   "cell_type": "code",
   "execution_count": 4,
   "id": "de8f877b",
   "metadata": {},
   "outputs": [
    {
     "name": "stdout",
     "output_type": "stream",
     "text": [
      "Index(['Sale Date', 'Barcode', 'Product Name', 'Quantity Sold', 'tempmax',\n",
      "       'tempmin', 'temp', 'feelslikemax', 'feelslikemin', 'feelslike', 'dew',\n",
      "       'humidity', 'precip', 'precipprob', 'precipcover', 'preciptype', 'snow',\n",
      "       'snowdepth', 'windgust', 'windspeed', 'winddir', 'sealevelpressure',\n",
      "       'cloudcover', 'visibility', 'solarradiation', 'solarenergy', 'uvindex',\n",
      "       'severerisk', 'sunrise', 'sunset', 'moonphase'],\n",
      "      dtype='object')\n"
     ]
    }
   ],
   "source": [
    "columns = df.columns\n",
    "print(columns)"
   ]
  },
  {
   "cell_type": "code",
   "execution_count": 5,
   "id": "592c1180",
   "metadata": {
    "scrolled": true
   },
   "outputs": [
    {
     "name": "stdout",
     "output_type": "stream",
     "text": [
      "Index(['Barcode', 'Quantity Sold', 'tempmax', 'tempmin', 'temp',\n",
      "       'feelslikemax', 'feelslikemin', 'feelslike', 'dew', 'humidity',\n",
      "       'precip', 'precipprob', 'precipcover', 'snow', 'snowdepth', 'windgust',\n",
      "       'windspeed', 'winddir', 'sealevelpressure', 'cloudcover', 'visibility',\n",
      "       'solarradiation', 'solarenergy', 'uvindex', 'severerisk', 'moonphase'],\n",
      "      dtype='object')\n"
     ]
    }
   ],
   "source": [
    "numeric_columns = df.select_dtypes(include=['number'])\n",
    "print(numeric_columns.columns)"
   ]
  },
  {
   "cell_type": "code",
   "execution_count": 9,
   "id": "e68ef41b",
   "metadata": {},
   "outputs": [
    {
     "name": "stdout",
     "output_type": "stream",
     "text": [
      "                Barcode  Quantity Sold   tempmax   tempmin      temp  \\\n",
      "Barcode        1.000000      -0.053500 -0.001306 -0.003832 -0.002551   \n",
      "Quantity Sold -0.053500       1.000000  0.002425 -0.004963 -0.000681   \n",
      "tempmax       -0.001306       0.002425  1.000000  0.858401  0.968527   \n",
      "tempmin       -0.003832      -0.004963  0.858401  1.000000  0.949492   \n",
      "temp          -0.002551      -0.000681  0.968527  0.949492  1.000000   \n",
      "\n",
      "               feelslikemax  feelslikemin  feelslike       dew  humidity  ...  \\\n",
      "Barcode           -0.001719     -0.004160  -0.003015 -0.003930 -0.003015  ...   \n",
      "Quantity Sold      0.002045     -0.003801  -0.000859 -0.005649 -0.013179  ...   \n",
      "tempmax            0.989134      0.874046   0.960501  0.853130 -0.350859  ...   \n",
      "tempmin            0.861248      0.980583   0.940303  0.951471 -0.046274  ...   \n",
      "temp               0.963953      0.950806   0.991130  0.933300 -0.225347  ...   \n",
      "\n",
      "               windspeed   winddir  sealevelpressure  cloudcover  visibility  \\\n",
      "Barcode        -0.002047 -0.005148          0.005215   -0.002094    0.002571   \n",
      "Quantity Sold  -0.007324 -0.000578          0.006703   -0.009964    0.023860   \n",
      "tempmax        -0.145904  0.014062          0.040497   -0.326869    0.111952   \n",
      "tempmin        -0.008763  0.119946         -0.063508    0.068818   -0.014975   \n",
      "temp           -0.083937  0.059802         -0.005942   -0.148327    0.060638   \n",
      "\n",
      "               solarradiation  solarenergy   uvindex  severerisk  moonphase  \n",
      "Barcode              0.002641     0.002638 -0.000007    0.004081  -0.002759  \n",
      "Quantity Sold        0.008545     0.008543  0.004389    0.000139  -0.000247  \n",
      "tempmax              0.699369     0.699442  0.666977    0.249730   0.027551  \n",
      "tempmin              0.429099     0.429348  0.442010    0.163897   0.020170  \n",
      "temp                 0.596818     0.596942  0.577472    0.214585   0.018936  \n",
      "\n",
      "[5 rows x 26 columns]\n"
     ]
    }
   ],
   "source": [
    "numeric_corr = numeric_columns.corr()\n",
    "print(numeric_corr.head())\n",
    "\n",
    "numeric_corr.to_csv('data/nuberic_corr.csv')"
   ]
  },
  {
   "cell_type": "code",
   "execution_count": 8,
   "id": "d3c661bf",
   "metadata": {},
   "outputs": [
    {
     "name": "stdout",
     "output_type": "stream",
     "text": [
      "         Sale Date                     Product Name preciptype  \\\n",
      "0       2023-01-01              KINDER SURPRISE T72       rain   \n",
      "1       2023-01-01  PRINGLES SALT & VINEGAR PM 1.00       rain   \n",
      "2       2023-01-01                     FOSTERS 10PK       rain   \n",
      "3       2023-01-01            BIRRA MORETTI LGE NRB       rain   \n",
      "4       2023-01-01                     MILK 1 LITRE       rain   \n",
      "...            ...                              ...        ...   \n",
      "320180  2024-12-31     HOVIS SOFT WHITE MEDIUM LOAF        NaN   \n",
      "320181  2024-12-31           HOVIS SOFT WHITE THICK        NaN   \n",
      "320182  2024-12-31              WEETABIX CHOC MINIS        NaN   \n",
      "320183  2024-12-31        L & B BLUE KS REAL BLUE *        NaN   \n",
      "320184  2024-12-31             KOKA CHICKEN NOODLES        NaN   \n",
      "\n",
      "                    sunrise               sunset  \n",
      "0       2023-01-01T08:15:54  2023-01-01T16:12:00  \n",
      "1       2023-01-01T08:15:54  2023-01-01T16:12:00  \n",
      "2       2023-01-01T08:15:54  2023-01-01T16:12:00  \n",
      "3       2023-01-01T08:15:54  2023-01-01T16:12:00  \n",
      "4       2023-01-01T08:15:54  2023-01-01T16:12:00  \n",
      "...                     ...                  ...  \n",
      "320180  2024-12-31T08:15:57  2024-12-31T16:11:31  \n",
      "320181  2024-12-31T08:15:57  2024-12-31T16:11:31  \n",
      "320182  2024-12-31T08:15:57  2024-12-31T16:11:31  \n",
      "320183  2024-12-31T08:15:57  2024-12-31T16:11:31  \n",
      "320184  2024-12-31T08:15:57  2024-12-31T16:11:31  \n",
      "\n",
      "[320185 rows x 5 columns]\n"
     ]
    }
   ],
   "source": [
    "non_numeric = df.select_dtypes(exclude=['number'])\n",
    "print(non_numeric)"
   ]
  }
 ],
 "metadata": {
  "kernelspec": {
   "display_name": "Python 3 (ipykernel)",
   "language": "python",
   "name": "python3"
  },
  "language_info": {
   "codemirror_mode": {
    "name": "ipython",
    "version": 3
   },
   "file_extension": ".py",
   "mimetype": "text/x-python",
   "name": "python",
   "nbconvert_exporter": "python",
   "pygments_lexer": "ipython3",
   "version": "3.11.5"
  }
 },
 "nbformat": 4,
 "nbformat_minor": 5
}
