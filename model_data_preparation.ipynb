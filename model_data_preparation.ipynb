{
 "cells": [
  {
   "cell_type": "code",
   "execution_count": 2,
   "id": "fe1e337b",
   "metadata": {},
   "outputs": [],
   "source": [
    "import pandas as pd\n",
    "import numpy as np"
   ]
  },
  {
   "cell_type": "code",
   "execution_count": 3,
   "id": "eb4f039f",
   "metadata": {},
   "outputs": [],
   "source": [
    "df_weather_2023 = pd.read_csv('data/weather_2023.csv')"
   ]
  },
  {
   "cell_type": "code",
   "execution_count": 4,
   "id": "f55950ae",
   "metadata": {},
   "outputs": [],
   "source": [
    "df_weather_2024 = pd.read_csv('data/weather_2024.csv')"
   ]
  },
  {
   "cell_type": "code",
   "execution_count": 5,
   "id": "ae2a8988",
   "metadata": {},
   "outputs": [
    {
     "name": "stdout",
     "output_type": "stream",
     "text": [
      "      name    datetime  tempmax  tempmin  temp  feelslikemax  feelslikemin  \\\n",
      "0  Bristol  2023-01-01     10.7      7.1   9.0          10.7           4.7   \n",
      "1  Bristol  2023-01-02      7.6      2.4   5.3           6.0           0.1   \n",
      "2  Bristol  2023-01-03     12.1      4.3   9.4          12.1           2.1   \n",
      "3  Bristol  2023-01-04     12.3     10.4  11.7          12.3          10.4   \n",
      "4  Bristol  2023-01-05     12.2      9.8  10.9          12.2           7.5   \n",
      "\n",
      "   feelslike  dew  humidity  ...  solarenergy  uvindex  severerisk  \\\n",
      "0        6.9  6.6      85.0  ...          1.3        1          10   \n",
      "1        3.3  3.5      88.7  ...          3.4        2          10   \n",
      "2        8.2  8.6      94.4  ...          0.9        1          10   \n",
      "3       11.7  9.5      86.5  ...          1.8        1          10   \n",
      "4       10.7  9.2      89.7  ...          1.7        1          10   \n",
      "\n",
      "               sunrise               sunset  moonphase  \\\n",
      "0  2023-01-01T08:15:54  2023-01-01T16:12:00       0.31   \n",
      "1  2023-01-02T08:15:47  2023-01-02T16:13:04       0.35   \n",
      "2  2023-01-03T08:15:37  2023-01-03T16:14:10       0.38   \n",
      "3  2023-01-04T08:15:24  2023-01-04T16:15:19       0.42   \n",
      "4  2023-01-05T08:15:07  2023-01-05T16:16:31       0.45   \n",
      "\n",
      "               conditions                                        description  \\\n",
      "0  Rain, Partially cloudy  Partly cloudy throughout the day with a chance...   \n",
      "1  Rain, Partially cloudy  Partly cloudy throughout the day with rain cle...   \n",
      "2          Rain, Overcast  Cloudy skies throughout the day with a chance ...   \n",
      "3          Rain, Overcast  Cloudy skies throughout the day with rain clea...   \n",
      "4          Rain, Overcast  Cloudy skies throughout the day with a chance ...   \n",
      "\n",
      "   icon                                           stations  \n",
      "0  rain  03853099999,03743099999,03716099999,D9855,0374...  \n",
      "1  rain  03853099999,03743099999,03716099999,E6960,D985...  \n",
      "2  rain  03853099999,03743099999,03716099999,D9855,0374...  \n",
      "3  rain  03853099999,03743099999,03716099999,D9855,0374...  \n",
      "4  rain  03853099999,03743099999,03716099999,E6960,D985...  \n",
      "\n",
      "[5 rows x 33 columns]\n"
     ]
    }
   ],
   "source": [
    "print(df_weather_2023.head())"
   ]
  },
  {
   "cell_type": "code",
   "execution_count": 6,
   "id": "30dcc239",
   "metadata": {},
   "outputs": [
    {
     "name": "stdout",
     "output_type": "stream",
     "text": [
      "      name    datetime  tempmax  tempmin  temp  feelslikemax  feelslikemin  \\\n",
      "0  Bristol  2024-01-01     11.5      5.9   8.2          11.5           2.2   \n",
      "1  Bristol  2024-01-02     13.0      9.2  10.7          13.0           6.0   \n",
      "2  Bristol  2024-01-03      9.9      8.0   8.6           7.2           4.7   \n",
      "3  Bristol  2024-01-04      7.8      5.2   6.1           5.7           1.0   \n",
      "4  Bristol  2024-01-05      7.6      3.3   5.4           4.7           0.1   \n",
      "\n",
      "   feelslike  dew  humidity  ...  solarenergy  uvindex  severerisk  \\\n",
      "0        5.6  6.1      86.9  ...          1.1        1         NaN   \n",
      "1        9.9  9.0      89.0  ...          1.0        1         NaN   \n",
      "2        5.7  7.1      90.0  ...          1.2        1         NaN   \n",
      "3        3.3  4.7      90.9  ...          0.9        1         NaN   \n",
      "4        2.7  3.9      89.8  ...          2.3        2         NaN   \n",
      "\n",
      "               sunrise               sunset  moonphase  \\\n",
      "0  2024-01-01T08:15:56  2024-01-01T16:11:45       0.68   \n",
      "1  2024-01-02T08:15:50  2024-01-02T16:12:48       0.71   \n",
      "2  2024-01-03T08:15:40  2024-01-03T16:13:54       0.74   \n",
      "3  2024-01-04T08:15:28  2024-01-04T16:15:03       0.75   \n",
      "4  2024-01-05T08:15:12  2024-01-05T16:16:14       0.81   \n",
      "\n",
      "               conditions                                        description  \\\n",
      "0  Rain, Partially cloudy  Partly cloudy throughout the day with a chance...   \n",
      "1          Rain, Overcast  Cloudy skies throughout the day with a chance ...   \n",
      "2          Rain, Overcast  Cloudy skies throughout the day with a chance ...   \n",
      "3  Rain, Partially cloudy  Partly cloudy throughout the day with a chance...   \n",
      "4  Rain, Partially cloudy        Partly cloudy throughout the day with rain.   \n",
      "\n",
      "   icon                                           stations  \n",
      "0  rain  03853099999,03743099999,03716099999,0364409999...  \n",
      "1  rain  03853099999,03743099999,03716099999,D9855,0374...  \n",
      "2  rain  03853099999,03743099999,03716099999,0364409999...  \n",
      "3  rain  03853099999,03743099999,03716099999,0364409999...  \n",
      "4  rain  03853099999,03743099999,03716099999,D9855,0374...  \n",
      "\n",
      "[5 rows x 33 columns]\n"
     ]
    }
   ],
   "source": [
    "print(df_weather_2024.head())"
   ]
  },
  {
   "cell_type": "code",
   "execution_count": 21,
   "id": "1af13486",
   "metadata": {},
   "outputs": [],
   "source": [
    "# Convert the datetime column of weather_2023 to a standard datetime format\n",
    "df_weather_2023['datetime'] = pd.to_datetime(df_weather_2023['datetime'])\n",
    "\n",
    "# Convert the datetime column of weather_2024 to a standard datetime format\n",
    "df_weather_2024['datetime'] = pd.to_datetime(df_weather_2024['datetime'])\n",
    "\n",
    "# Concatenate the two DataFrames\n",
    "df_weather = pd.concat([df_weather_2023, df_weather_2024], ignore_index=True)\n",
    "\n",
    "# Save the merged DataFrame to a new CSV file\n",
    "df_weather.to_csv('data/final_data/whole_weather.csv', index=False)"
   ]
  },
  {
   "cell_type": "code",
   "execution_count": 10,
   "id": "00dbb39e",
   "metadata": {},
   "outputs": [],
   "source": [
    "df_sales = pd.read_csv('data/final_data/whole_sales.csv')"
   ]
  },
  {
   "cell_type": "code",
   "execution_count": 11,
   "id": "1b5a32e3",
   "metadata": {},
   "outputs": [],
   "source": [
    "# Filter the dataset to include only rows where the \"Type\" column is \"Sale\"\n",
    "df_sales = df_sales[df_sales['Type'] == 'Sale']\n",
    "\n",
    "# Filter the dataset to include only rows where the \"Barcode\" column has values (i.e., not NaN)\n",
    "df_sales = df_sales[df_sales['Barcode'].notna()]"
   ]
  },
  {
   "cell_type": "code",
   "execution_count": 12,
   "id": "70be064a",
   "metadata": {},
   "outputs": [
    {
     "name": "stdout",
     "output_type": "stream",
     "text": [
      "              Date  Type       Barcode               Product Name  \\\n",
      "0       2023-01-01  Sale  5.010003e+12              HOVIS 7 SEEDS   \n",
      "1       2023-01-01  Sale  5.031390e+12                   CASHWORD   \n",
      "2       2023-01-01  Sale  5.000144e+12            STERLING KS TTT   \n",
      "4       2023-01-01  Sale  5.014379e+12              STELLA 10PACK   \n",
      "5       2023-01-01  Sale  5.027908e+12      SOFTEE DAFFODILS PINK   \n",
      "...            ...   ...           ...                        ...   \n",
      "505793  2024-12-31  Sale  5.410317e+12                        smi   \n",
      "505794  2024-12-31  Sale  5.060592e+12               MARLBORO RED   \n",
      "505795  2024-12-31  Sale  5.000393e+12  VELO POUCH STRAW ICE 10MG   \n",
      "505796  2024-12-31  Sale  5.060067e+12                    LIGHTER   \n",
      "505797  2024-12-31  Sale  5.000431e+12   JPS PLAYERSKS REAL RED *   \n",
      "\n",
      "        Cost/Unit(Ex VAT)  Total Cost(Ex VAT)  Total Cost(Inc VAT)  QTY  \\\n",
      "0                    1.31                1.31                 1.31  1.0   \n",
      "1                    1.00                1.00                 1.20  1.0   \n",
      "2                    1.00                1.00                 1.05  1.0   \n",
      "4                    1.00                1.00                 1.00  1.0   \n",
      "5                    0.00                0.00                 0.00  1.0   \n",
      "...                   ...                 ...                  ...  ...   \n",
      "505793               1.00                1.00                 1.00  1.0   \n",
      "505794               1.00                1.00                 1.00  1.0   \n",
      "505795               1.00                1.00                 1.00  1.0   \n",
      "505796               1.00                1.00                 1.20  1.0   \n",
      "505797               6.36               12.72                15.26  2.0   \n",
      "\n",
      "        Total Before Discount  Amount  ...  Gross Margin(%)  \\\n",
      "0                        1.89    1.89  ...            30.69   \n",
      "1                        3.00    3.00  ...            60.00   \n",
      "2                       11.99   11.99  ...            91.24   \n",
      "4                       12.99   12.99  ...            92.30   \n",
      "5                        1.29    1.29  ...             0.00   \n",
      "...                       ...     ...  ...              ...   \n",
      "505793                   3.49    3.49  ...            71.35   \n",
      "505794                  16.54   16.54  ...            93.95   \n",
      "505795                   6.50    6.50  ...            84.62   \n",
      "505796                   1.00    1.00  ...           -20.00   \n",
      "505797                  27.10   13.55  ...            43.68   \n",
      "\n",
      "                 Department  Sub Department  Brand VAT (%) Till  Unnamed: 19  \\\n",
      "0                    BAKERY         DEFAULT    NaN     0.0  1.0          NaN   \n",
      "1           INSTANT LOTTERY         DEFAULT    NaN    20.0  1.0          NaN   \n",
      "2                   TOBACCO             NaN    NaN     5.0  1.0          NaN   \n",
      "4                   ALCOHOL         DEFAULT    NaN     0.0  1.0          NaN   \n",
      "5                 GROCERIES         DEFAULT    NaN    20.0  1.0          NaN   \n",
      "...                     ...             ...    ...     ...  ...          ...   \n",
      "505793             DISCOUNT         DEFAULT    NaN     0.0  1.0          NaN   \n",
      "505794              TOBACCO         DEFAULT    NaN     0.0  1.0          NaN   \n",
      "505795  SMOKING ALTERNATIVE         DEFAULT    NaN     0.0  1.0          NaN   \n",
      "505796              TOBACCO             NaN    NaN    20.0  1.0          NaN   \n",
      "505797              TOBACCO         DEFAULT    NaN    20.0  1.0          NaN   \n",
      "\n",
      "        Username  Supplier  Comment  \n",
      "0            1.0       NaN      NaN  \n",
      "1            1.0       NaN      NaN  \n",
      "2            1.0       NaN      NaN  \n",
      "4            1.0       NaN      NaN  \n",
      "5            1.0       NaN      NaN  \n",
      "...          ...       ...      ...  \n",
      "505793       1.0       NaN      NaN  \n",
      "505794       1.0       NaN      NaN  \n",
      "505795       1.0       NaN      NaN  \n",
      "505796       1.0       NaN      NaN  \n",
      "505797       1.0       NaN      NaN  \n",
      "\n",
      "[435366 rows x 23 columns]\n"
     ]
    }
   ],
   "source": [
    "print(df_sales)"
   ]
  },
  {
   "cell_type": "code",
   "execution_count": 13,
   "id": "370ee0bb",
   "metadata": {},
   "outputs": [
    {
     "name": "stdout",
     "output_type": "stream",
     "text": [
      "         Sale Date       Barcode                     Product Name  \\\n",
      "0       2023-01-01  4.008411e+07              KINDER SURPRISE T72   \n",
      "212     2023-01-01  5.053990e+12  PRINGLES SALT & VINEGAR PM 1.00   \n",
      "211     2023-01-01  5.035766e+12                     FOSTERS 10PK   \n",
      "210     2023-01-01  5.035766e+12            BIRRA MORETTI LGE NRB   \n",
      "209     2023-01-01  5.035230e+12                     MILK 1 LITRE   \n",
      "...            ...           ...                              ...   \n",
      "319811  2024-12-31  5.010003e+12     HOVIS SOFT WHITE MEDIUM LOAF   \n",
      "319812  2024-12-31  5.010003e+12           HOVIS SOFT WHITE THICK   \n",
      "319813  2024-12-31  5.010029e+12              WEETABIX CHOC MINIS   \n",
      "319807  2024-12-31  5.000431e+12        L & B BLUE KS REAL BLUE *   \n",
      "320184  2024-12-31  8.888057e+12             KOKA CHICKEN NOODLES   \n",
      "\n",
      "        Quantity Sold  \n",
      "0                 1.0  \n",
      "212               2.0  \n",
      "211               1.0  \n",
      "210               3.0  \n",
      "209               3.0  \n",
      "...               ...  \n",
      "319811            7.0  \n",
      "319812            5.0  \n",
      "319813            1.0  \n",
      "319807            2.0  \n",
      "320184            4.0  \n",
      "\n",
      "[320185 rows x 4 columns]\n"
     ]
    }
   ],
   "source": [
    "# Convert 'Date' to datetime type\n",
    "df_sales['Date'] = pd.to_datetime(df_sales['Date'])\n",
    "\n",
    "# Group by 'Barcode' and 'Date' to summarize sales by product and date\n",
    "summary = df_sales.groupby([df_sales['Date'].dt.date, 'Barcode', 'Product Name'])['QTY'].sum().reset_index()\n",
    "\n",
    "# Rename columns for better readability\n",
    "summary.columns = ['Sale Date', 'Barcode', 'Product Name', 'Quantity Sold']\n",
    "\n",
    "# Sort the summary by Date\n",
    "summary = summary.sort_values(by=['Sale Date'])\n",
    "\n",
    "# Display the summary\n",
    "print(summary)"
   ]
  },
  {
   "cell_type": "code",
   "execution_count": 14,
   "id": "d38cfdeb",
   "metadata": {},
   "outputs": [
    {
     "name": "stdout",
     "output_type": "stream",
     "text": [
      "    Sale Date       Barcode                     Product Name  Quantity Sold  \\\n",
      "0  2023-01-01  4.008411e+07              KINDER SURPRISE T72            1.0   \n",
      "1  2023-01-01  5.053990e+12  PRINGLES SALT & VINEGAR PM 1.00            2.0   \n",
      "2  2023-01-01  5.035766e+12                     FOSTERS 10PK            1.0   \n",
      "3  2023-01-01  5.035766e+12            BIRRA MORETTI LGE NRB            3.0   \n",
      "4  2023-01-01  5.035230e+12                     MILK 1 LITRE            3.0   \n",
      "\n",
      "   tempmax  tempmin  temp  feelslikemax  feelslikemin  feelslike  ...  \\\n",
      "0     10.7      7.1   9.0          10.7           4.7        6.9  ...   \n",
      "1     10.7      7.1   9.0          10.7           4.7        6.9  ...   \n",
      "2     10.7      7.1   9.0          10.7           4.7        6.9  ...   \n",
      "3     10.7      7.1   9.0          10.7           4.7        6.9  ...   \n",
      "4     10.7      7.1   9.0          10.7           4.7        6.9  ...   \n",
      "\n",
      "   sealevelpressure  cloudcover  visibility  solarradiation  solarenergy  \\\n",
      "0            1006.8        65.3        21.0            16.0          1.3   \n",
      "1            1006.8        65.3        21.0            16.0          1.3   \n",
      "2            1006.8        65.3        21.0            16.0          1.3   \n",
      "3            1006.8        65.3        21.0            16.0          1.3   \n",
      "4            1006.8        65.3        21.0            16.0          1.3   \n",
      "\n",
      "  uvindex  severerisk              sunrise               sunset  moonphase  \n",
      "0       1        10.0  2023-01-01T08:15:54  2023-01-01T16:12:00       0.31  \n",
      "1       1        10.0  2023-01-01T08:15:54  2023-01-01T16:12:00       0.31  \n",
      "2       1        10.0  2023-01-01T08:15:54  2023-01-01T16:12:00       0.31  \n",
      "3       1        10.0  2023-01-01T08:15:54  2023-01-01T16:12:00       0.31  \n",
      "4       1        10.0  2023-01-01T08:15:54  2023-01-01T16:12:00       0.31  \n",
      "\n",
      "[5 rows x 31 columns]\n"
     ]
    }
   ],
   "source": [
    "# Ensure both 'Sale Date' and 'datetime' are in datetime format (with only the date component)\n",
    "summary['Sale Date'] = pd.to_datetime(summary['Sale Date']).dt.date\n",
    "df_weather['datetime'] = pd.to_datetime(df_weather['datetime'], errors='coerce').dt.date\n",
    "\n",
    "# Merge the datasets on the date columns ('Sale Date' in sales_df and 'datetime' in weather_df)\n",
    "df_model = pd.merge(summary, df_weather, left_on='Sale Date', right_on='datetime', how='left')\n",
    "\n",
    "# Drop the redundant 'datetime' column and other unnecessary columns\n",
    "df_model.drop(columns=['datetime', 'name', 'conditions', 'description', 'icon', 'stations'], inplace=True)\n",
    "\n",
    "print(df_model.head())"
   ]
  },
  {
   "cell_type": "code",
   "execution_count": 15,
   "id": "e17a60eb",
   "metadata": {},
   "outputs": [],
   "source": [
    "df_model.to_csv('data/final_data/model_data.csv', index=False)"
   ]
  },
  {
   "cell_type": "code",
   "execution_count": 16,
   "id": "32e88441",
   "metadata": {},
   "outputs": [
    {
     "name": "stdout",
     "output_type": "stream",
     "text": [
      "Column Headers: Index(['Sale Date', 'Barcode', 'Product Name', 'Quantity Sold', 'tempmax',\n",
      "       'tempmin', 'temp', 'feelslikemax', 'feelslikemin', 'feelslike', 'dew',\n",
      "       'humidity', 'precip', 'precipprob', 'precipcover', 'preciptype', 'snow',\n",
      "       'snowdepth', 'windgust', 'windspeed', 'winddir', 'sealevelpressure',\n",
      "       'cloudcover', 'visibility', 'solarradiation', 'solarenergy', 'uvindex',\n",
      "       'severerisk', 'sunrise', 'sunset', 'moonphase'],\n",
      "      dtype='object')\n"
     ]
    }
   ],
   "source": [
    "# Get the column headers\n",
    "column_headers = df_model.columns\n",
    "\n",
    "# Print the column headers\n",
    "print(\"Column Headers:\", column_headers)"
   ]
  },
  {
   "cell_type": "code",
   "execution_count": 17,
   "id": "5882f9fa",
   "metadata": {},
   "outputs": [],
   "source": [
    "weather_forecast = pd.read_csv('data/weather_forecast.csv')"
   ]
  },
  {
   "cell_type": "code",
   "execution_count": 18,
   "id": "a790673c",
   "metadata": {
    "scrolled": true
   },
   "outputs": [
    {
     "name": "stdout",
     "output_type": "stream",
     "text": [
      "        name    datetime  tempmax  tempmin  temp  feelslikemax  feelslikemin  \\\n",
      "0    Bristol  2024-12-01     14.0     10.1  12.0          14.0          10.1   \n",
      "1    Bristol  2024-12-02     10.1      6.0   7.4          10.1           2.0   \n",
      "2    Bristol  2024-12-03      6.2      2.8   4.7           6.2           0.9   \n",
      "3    Bristol  2024-12-04     11.0      3.7   7.7          11.0           1.9   \n",
      "4    Bristol  2024-12-05     12.9      8.1  11.3          12.9           3.3   \n",
      "..       ...         ...      ...      ...   ...           ...           ...   \n",
      "207  Bristol  2025-06-26     20.8     12.7  16.7           0.0           0.0   \n",
      "208  Bristol  2025-06-27     20.3     13.1  16.7           0.0           0.0   \n",
      "209  Bristol  2025-06-28     20.2     12.3  16.4           0.0           0.0   \n",
      "210  Bristol  2025-06-29     21.0     12.9  16.8           0.0           0.0   \n",
      "211  Bristol  2025-06-30     19.9     13.2  16.5           0.0           0.0   \n",
      "\n",
      "     feelslike   dew  humidity  ...  solarenergy  uvindex  severerisk  \\\n",
      "0         12.0  11.7      98.1  ...          1.6      2.0        10.0   \n",
      "1          4.2   6.5      94.8  ...          3.7      3.0        10.0   \n",
      "2          3.5   4.4      98.4  ...          3.1      2.0        10.0   \n",
      "3          5.7   6.4      91.4  ...          2.2      2.0        10.0   \n",
      "4         10.5  10.5      94.9  ...          0.7      0.0        10.0   \n",
      "..         ...   ...       ...  ...          ...      ...         ...   \n",
      "207       29.4  11.8      75.7  ...          NaN      NaN         NaN   \n",
      "208       26.9  11.8      74.7  ...          NaN      NaN         NaN   \n",
      "209       27.0  11.5      74.8  ...          NaN      NaN         NaN   \n",
      "210       28.2  12.2      75.8  ...          NaN      NaN         NaN   \n",
      "211       27.5  12.1      76.7  ...          NaN      NaN         NaN   \n",
      "\n",
      "                 sunrise               sunset  moonphase  \\\n",
      "0    2024-12-01T07:54:10  2024-12-01T16:04:46       0.00   \n",
      "1    2024-12-02T07:55:32  2024-12-02T16:04:12       0.04   \n",
      "2    2024-12-03T07:56:52  2024-12-03T16:03:40       0.08   \n",
      "3    2024-12-04T07:58:10  2024-12-04T16:03:12       0.11   \n",
      "4    2024-12-05T07:59:26  2024-12-05T16:02:47       0.15   \n",
      "..                   ...                  ...        ...   \n",
      "207  2025-06-26T04:55:08  2025-06-26T21:31:26       0.03   \n",
      "208  2025-06-27T04:55:37  2025-06-27T21:31:19       0.07   \n",
      "209  2025-06-28T04:56:09  2025-06-28T21:31:10       0.10   \n",
      "210  2025-06-29T04:56:44  2025-06-29T21:30:57       0.13   \n",
      "211  2025-06-30T04:57:21  2025-06-30T21:30:42       0.16   \n",
      "\n",
      "                 conditions  \\\n",
      "0            Rain, Overcast   \n",
      "1          Partially cloudy   \n",
      "2          Partially cloudy   \n",
      "3    Rain, Partially cloudy   \n",
      "4    Rain, Partially cloudy   \n",
      "..                      ...   \n",
      "207        Partially cloudy   \n",
      "208        Partially cloudy   \n",
      "209        Partially cloudy   \n",
      "210        Partially cloudy   \n",
      "211        Partially cloudy   \n",
      "\n",
      "                                           description               icon  \\\n",
      "0    Cloudy skies throughout the day with a chance ...               rain   \n",
      "1                    Partly cloudy throughout the day.  partly-cloudy-day   \n",
      "2                    Partly cloudy throughout the day.  partly-cloudy-day   \n",
      "3          Partly cloudy throughout the day with rain.               rain   \n",
      "4    Partly cloudy throughout the day with a chance...               rain   \n",
      "..                                                 ...                ...   \n",
      "207                                                NaN  partly-cloudy-day   \n",
      "208                                                NaN  partly-cloudy-day   \n",
      "209                                                NaN  partly-cloudy-day   \n",
      "210                                                NaN  partly-cloudy-day   \n",
      "211                                                NaN  partly-cloudy-day   \n",
      "\n",
      "                      stations  \n",
      "0    EGFF,EGDY,D9855,EGVA,EGGD  \n",
      "1    EGFF,EGDY,D9855,EGVA,EGGD  \n",
      "2    EGFF,EGDY,D9855,EGVA,EGGD  \n",
      "3    EGFF,EGDY,D9855,EGVA,EGGD  \n",
      "4    EGFF,EGDY,D9855,EGVA,EGGD  \n",
      "..                         ...  \n",
      "207                        NaN  \n",
      "208                        NaN  \n",
      "209                        NaN  \n",
      "210                        NaN  \n",
      "211                        NaN  \n",
      "\n",
      "[212 rows x 33 columns]\n"
     ]
    }
   ],
   "source": [
    "print(weather_forecast)"
   ]
  },
  {
   "cell_type": "code",
   "execution_count": 19,
   "id": "5f37bad8",
   "metadata": {},
   "outputs": [
    {
     "name": "stdout",
     "output_type": "stream",
     "text": [
      "     datetime  tempmax  tempmin  temp  feelslikemax  feelslikemin  feelslike  \\\n",
      "0  2024-12-01     14.0     10.1  12.0          14.0          10.1       12.0   \n",
      "1  2024-12-02     10.1      6.0   7.4          10.1           2.0        4.2   \n",
      "2  2024-12-03      6.2      2.8   4.7           6.2           0.9        3.5   \n",
      "3  2024-12-04     11.0      3.7   7.7          11.0           1.9        5.7   \n",
      "4  2024-12-05     12.9      8.1  11.3          12.9           3.3       10.5   \n",
      "\n",
      "    dew  humidity  precip  ...  windspeed  winddir  sealevelpressure  \\\n",
      "0  11.7      98.1     6.3  ...       28.0    196.4            1011.7   \n",
      "1   6.5      94.8     0.0  ...       29.7    276.8            1014.5   \n",
      "2   4.4      98.4     0.0  ...       13.7     96.8            1022.1   \n",
      "3   6.4      91.4     2.4  ...       32.6    205.5            1022.1   \n",
      "4  10.5      94.9    13.0  ...       44.3    246.7            1007.4   \n",
      "\n",
      "   cloudcover  visibility  solarradiation  solarenergy  uvindex  severerisk  \\\n",
      "0        96.9         9.1            19.9          1.6      2.0        10.0   \n",
      "1        80.7         9.8            43.3          3.7      3.0        10.0   \n",
      "2        77.4         9.6            36.7          3.1      2.0        10.0   \n",
      "3        85.7         9.7            26.4          2.2      2.0        10.0   \n",
      "4        88.8         7.6             8.0          0.7      0.0        10.0   \n",
      "\n",
      "   moonphase  \n",
      "0       0.00  \n",
      "1       0.04  \n",
      "2       0.08  \n",
      "3       0.11  \n",
      "4       0.15  \n",
      "\n",
      "[5 rows x 25 columns]\n"
     ]
    }
   ],
   "source": [
    "# List of columns to keep\n",
    "columns_to_keep = ['datetime', 'tempmax', 'tempmin', 'temp', 'feelslikemax', \n",
    "                   'feelslikemin', 'feelslike', 'dew', 'humidity', 'precip', \n",
    "                   'precipprob', 'precipcover', 'snow', 'snowdepth', 'windgust', \n",
    "                   'windspeed', 'winddir', 'sealevelpressure', 'cloudcover', \n",
    "                   'visibility', 'solarradiation', 'solarenergy', 'uvindex', \n",
    "                   'severerisk', 'moonphase']\n",
    "\n",
    "# Filter the dataset to only include these columns\n",
    "filtered_df = weather_forecast[columns_to_keep]\n",
    "\n",
    "# Check the result\n",
    "print(filtered_df.head())\n",
    "\n",
    "filtered_df.to_csv('data/weather_forecast_new.csv', index=False)"
   ]
  },
  {
   "cell_type": "code",
   "execution_count": 20,
   "id": "3fbc37ba",
   "metadata": {},
   "outputs": [
    {
     "name": "stdout",
     "output_type": "stream",
     "text": [
      "               datetime  tempmax  tempmin  temp  feelslikemax  feelslikemin  \\\n",
      "37  2025-01-07 00:00:00      8.1      3.9   6.0           0.0           0.0   \n",
      "38  2025-01-08 00:00:00      7.8      3.2   5.6           0.0           0.0   \n",
      "39  2025-01-09 00:00:00      7.2      3.0   5.1           0.0           0.0   \n",
      "40  2025-01-10 00:00:00      8.0      2.9   5.8           0.0           0.0   \n",
      "41  2025-01-11 00:00:00      7.9      3.2   5.7           0.0           0.0   \n",
      "42  2025-01-12 00:00:00      8.3      3.0   6.0           0.0           0.0   \n",
      "43  2025-01-13 00:00:00      8.0      3.7   5.9           0.0           0.0   \n",
      "\n",
      "    feelslike  dew  humidity  precip  ...  windspeed  winddir  \\\n",
      "37        0.1  3.8      86.2     1.9  ...       28.8    193.6   \n",
      "38       -0.4  3.6      87.6     1.8  ...       27.0    183.6   \n",
      "39       -1.1  3.3      88.5     2.1  ...       26.6    168.4   \n",
      "40       -0.1  4.0      88.2     2.6  ...       27.7    198.9   \n",
      "41       -0.3  3.3      85.2     3.6  ...       29.9    197.7   \n",
      "42       -0.5  4.0      87.5     3.3  ...       33.5    198.6   \n",
      "43       -0.3  3.8      86.6     2.3  ...       28.4    197.6   \n",
      "\n",
      "    sealevelpressure  cloudcover  visibility  solarradiation  solarenergy  \\\n",
      "37            1015.4        50.0        15.2             NaN          NaN   \n",
      "38            1015.2        51.3        14.1             NaN          NaN   \n",
      "39            1016.1        47.1        13.9             NaN          NaN   \n",
      "40            1015.2        52.7        13.8             NaN          NaN   \n",
      "41            1016.4        43.9        14.8             NaN          NaN   \n",
      "42            1015.3        56.0        13.3             NaN          NaN   \n",
      "43            1013.1        47.2        14.3             NaN          NaN   \n",
      "\n",
      "    uvindex  severerisk  moonphase  \n",
      "37      NaN         NaN       0.27  \n",
      "38      NaN         NaN       0.31  \n",
      "39      NaN         NaN       0.34  \n",
      "40      NaN         NaN       0.38  \n",
      "41      NaN         NaN       0.41  \n",
      "42      NaN         NaN       0.45  \n",
      "43      NaN         NaN       0.50  \n",
      "\n",
      "[7 rows x 25 columns]\n"
     ]
    }
   ],
   "source": [
    "from datetime import datetime\n",
    "\n",
    "df = filtered_df\n",
    "\n",
    "# Avoiding the SettingWithCopyWarning by using .loc[] when modifying the DataFrame\n",
    "df.loc[:, 'datetime'] = pd.to_datetime(df['datetime'])\n",
    "\n",
    "# Function to filter one week of data from a specific date\n",
    "def filter_week_data(requested_date):\n",
    "    # Convert the requested date to datetime\n",
    "    requested_date = pd.to_datetime(requested_date)\n",
    "    \n",
    "    # Get the data within one week from the requested date\n",
    "    filtered_df = df[(df['datetime'] >= requested_date) & \n",
    "                     (df['datetime'] < requested_date + pd.Timedelta(days=7))]\n",
    "    return filtered_df\n",
    "\n",
    "# Get the current system date\n",
    "system_date = datetime.now().date()  # Or use pd.Timestamp.today().date()\n",
    "\n",
    "# Example usage: Filter data for the week starting from the system date\n",
    "week_data = filter_week_data(system_date)\n",
    "\n",
    "# Display the filtered week data\n",
    "print(week_data)\n"
   ]
  }
 ],
 "metadata": {
  "kernelspec": {
   "display_name": "Python 3 (ipykernel)",
   "language": "python",
   "name": "python3"
  },
  "language_info": {
   "codemirror_mode": {
    "name": "ipython",
    "version": 3
   },
   "file_extension": ".py",
   "mimetype": "text/x-python",
   "name": "python",
   "nbconvert_exporter": "python",
   "pygments_lexer": "ipython3",
   "version": "3.11.5"
  }
 },
 "nbformat": 4,
 "nbformat_minor": 5
}
