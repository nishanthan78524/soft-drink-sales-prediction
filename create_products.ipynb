{
 "cells": [
  {
   "cell_type": "code",
   "execution_count": 6,
   "id": "032cc24b",
   "metadata": {},
   "outputs": [],
   "source": [
    "import pandas as pd\n",
    "import numpy as np"
   ]
  },
  {
   "cell_type": "code",
   "execution_count": 7,
   "id": "4a936c4d",
   "metadata": {},
   "outputs": [],
   "source": [
    "df = pd.read_csv('data/final_data/whole_sales.csv')"
   ]
  },
  {
   "cell_type": "code",
   "execution_count": 8,
   "id": "0a5ed6e1",
   "metadata": {},
   "outputs": [
    {
     "name": "stdout",
     "output_type": "stream",
     "text": [
      "         Date  Type       Barcode     Product Name  Cost/Unit(Ex VAT)  \\\n",
      "0  2023-01-01  Sale  5.010003e+12    HOVIS 7 SEEDS               1.31   \n",
      "1  2023-01-01  Sale  5.031390e+12         CASHWORD               1.00   \n",
      "2  2023-01-01  Sale  5.000144e+12  STERLING KS TTT               1.00   \n",
      "3  2023-01-01  Sale           NaN          ALCOHOL               3.00   \n",
      "4  2023-01-01  Sale  5.014379e+12    STELLA 10PACK               1.00   \n",
      "\n",
      "   Total Cost(Ex VAT)  Total Cost(Inc VAT)  QTY  Total Before Discount  \\\n",
      "0                1.31                 1.31  1.0                   1.89   \n",
      "1                1.00                 1.20  1.0                   3.00   \n",
      "2                1.00                 1.05  1.0                  11.99   \n",
      "3                3.00                 3.60  1.0                   3.00   \n",
      "4                1.00                 1.00  1.0                  12.99   \n",
      "\n",
      "   Amount  ...  Gross Margin(%)       Department  Sub Department  Brand  \\\n",
      "0    1.89  ...            30.69           BAKERY         DEFAULT    NaN   \n",
      "1    3.00  ...            60.00  INSTANT LOTTERY         DEFAULT    NaN   \n",
      "2   11.99  ...            91.24          TOBACCO             NaN    NaN   \n",
      "3    3.00  ...           -20.00          ALCOHOL         DEFAULT    NaN   \n",
      "4   12.99  ...            92.30          ALCOHOL         DEFAULT    NaN   \n",
      "\n",
      "  VAT (%) Till  Unnamed: 19  Username  Supplier  Comment  \n",
      "0     0.0  1.0          NaN       1.0       NaN      NaN  \n",
      "1    20.0  1.0          NaN       1.0       NaN      NaN  \n",
      "2     5.0  1.0          NaN       1.0       NaN      NaN  \n",
      "3    20.0  1.0          NaN       1.0       NaN      NaN  \n",
      "4     0.0  1.0          NaN       1.0       NaN      NaN  \n",
      "\n",
      "[5 rows x 23 columns]\n"
     ]
    }
   ],
   "source": [
    "print(df.head())"
   ]
  },
  {
   "cell_type": "code",
   "execution_count": 11,
   "id": "db2b4ca4",
   "metadata": {},
   "outputs": [],
   "source": [
    "# Filter the dataset to include only rows where the \"Type\" column is \"Sale\"\n",
    "df = df[df['Type'] == 'Sale']\n",
    "\n",
    "# Filter the dataset to include only rows where the \"Barcode\" column has values\n",
    "df = df[df['Barcode'].notna()]\n",
    "\n",
    "# Filter to get only rows with unique values in the \"Barcode\" column\n",
    "df_products = df.drop_duplicates(subset='Barcode')\n",
    "\n",
    "# Define the list of required columns\n",
    "required_columns = ['Barcode', 'Product Name', 'Amount', 'Brand', 'Department', 'Comment']\n",
    "\n",
    "# Filter the dataset to include only the required columns\n",
    "df_products = df_products[required_columns]\n",
    "\n",
    "df_products = df_products.astype({\n",
    "    \"Barcode\": \"Int64\",         # bigint\n",
    "    \"Product Name\": \"string\",   # string\n",
    "    \"Amount\": \"float64\",        # decimal\n",
    "    \"Brand\": \"string\",          # string\n",
    "    \"Department\": \"string\",     # string\n",
    "    \"Comment\": \"string\"         # string\n",
    "})\n",
    "\n",
    "# Rename columns to desired output names\n",
    "df_products = df_products.rename(columns={\n",
    "    \"Barcode\": \"barcode\",\n",
    "    \"Product Name\": \"product_name\",\n",
    "    \"Amount\": \"price\",\n",
    "    \"Brand\": \"brand\",\n",
    "    \"Department\": \"department\",\n",
    "    \"Comment\": \"measure\"\n",
    "})\n",
    "\n",
    "df_products.to_csv('data/final_data/products.csv', index=False)"
   ]
  },
  {
   "cell_type": "code",
   "execution_count": 13,
   "id": "9160e37a",
   "metadata": {},
   "outputs": [
    {
     "name": "stdout",
     "output_type": "stream",
     "text": [
      "         barcode           product_name  price brand       department measure\n",
      "0  5010003064744          HOVIS 7 SEEDS   1.89  <NA>           BAKERY    <NA>\n",
      "1  5031390116816               CASHWORD   3.00  <NA>  INSTANT LOTTERY    <NA>\n",
      "2  5000143944921        STERLING KS TTT  11.99  <NA>          TOBACCO    <NA>\n",
      "4  5014379012866          STELLA 10PACK  12.99  <NA>          ALCOHOL    <NA>\n",
      "5  5027908312368  SOFTEE DAFFODILS PINK   1.29  <NA>        GROCERIES    <NA>\n"
     ]
    }
   ],
   "source": [
    "print(df_products.head())"
   ]
  },
  {
   "cell_type": "code",
   "execution_count": 17,
   "id": "fe78fd06",
   "metadata": {},
   "outputs": [
    {
     "ename": "ValueError",
     "evalue": "cannot insert product_id, already exists",
     "output_type": "error",
     "traceback": [
      "\u001b[1;31m---------------------------------------------------------------------------\u001b[0m",
      "\u001b[1;31mValueError\u001b[0m                                Traceback (most recent call last)",
      "\u001b[1;32m~\\AppData\\Local\\Temp\\ipykernel_25440\\1479758646.py\u001b[0m in \u001b[0;36m?\u001b[1;34m()\u001b[0m\n\u001b[0;32m      1\u001b[0m \u001b[1;31m# Add product_id as the first column with unique values (starting from 1, or any custom logic)\u001b[0m\u001b[1;33m\u001b[0m\u001b[1;33m\u001b[0m\u001b[0m\n\u001b[1;32m----> 2\u001b[1;33m \u001b[0mdf_products\u001b[0m\u001b[1;33m.\u001b[0m\u001b[0minsert\u001b[0m\u001b[1;33m(\u001b[0m\u001b[1;36m0\u001b[0m\u001b[1;33m,\u001b[0m \u001b[1;34m'product_id'\u001b[0m\u001b[1;33m,\u001b[0m \u001b[0mrange\u001b[0m\u001b[1;33m(\u001b[0m\u001b[1;36m1\u001b[0m\u001b[1;33m,\u001b[0m \u001b[0mlen\u001b[0m\u001b[1;33m(\u001b[0m\u001b[0mdf_products\u001b[0m\u001b[1;33m)\u001b[0m \u001b[1;33m+\u001b[0m \u001b[1;36m1\u001b[0m\u001b[1;33m)\u001b[0m\u001b[1;33m)\u001b[0m\u001b[1;33m\u001b[0m\u001b[1;33m\u001b[0m\u001b[0m\n\u001b[0m",
      "\u001b[1;32mC:\\ProgramData\\anaconda3\\Lib\\site-packages\\pandas\\core\\frame.py\u001b[0m in \u001b[0;36m?\u001b[1;34m(self, loc, column, value, allow_duplicates)\u001b[0m\n\u001b[0;32m   4768\u001b[0m                 \u001b[1;34m\"'self.flags.allows_duplicate_labels' is False.\"\u001b[0m\u001b[1;33m\u001b[0m\u001b[1;33m\u001b[0m\u001b[0m\n\u001b[0;32m   4769\u001b[0m             )\n\u001b[0;32m   4770\u001b[0m         \u001b[1;32mif\u001b[0m \u001b[1;32mnot\u001b[0m \u001b[0mallow_duplicates\u001b[0m \u001b[1;32mand\u001b[0m \u001b[0mcolumn\u001b[0m \u001b[1;32min\u001b[0m \u001b[0mself\u001b[0m\u001b[1;33m.\u001b[0m\u001b[0mcolumns\u001b[0m\u001b[1;33m:\u001b[0m\u001b[1;33m\u001b[0m\u001b[1;33m\u001b[0m\u001b[0m\n\u001b[0;32m   4771\u001b[0m             \u001b[1;31m# Should this be a different kind of error??\u001b[0m\u001b[1;33m\u001b[0m\u001b[1;33m\u001b[0m\u001b[0m\n\u001b[1;32m-> 4772\u001b[1;33m             \u001b[1;32mraise\u001b[0m \u001b[0mValueError\u001b[0m\u001b[1;33m(\u001b[0m\u001b[1;34mf\"cannot insert {column}, already exists\"\u001b[0m\u001b[1;33m)\u001b[0m\u001b[1;33m\u001b[0m\u001b[1;33m\u001b[0m\u001b[0m\n\u001b[0m\u001b[0;32m   4773\u001b[0m         \u001b[1;32mif\u001b[0m \u001b[1;32mnot\u001b[0m \u001b[0misinstance\u001b[0m\u001b[1;33m(\u001b[0m\u001b[0mloc\u001b[0m\u001b[1;33m,\u001b[0m \u001b[0mint\u001b[0m\u001b[1;33m)\u001b[0m\u001b[1;33m:\u001b[0m\u001b[1;33m\u001b[0m\u001b[1;33m\u001b[0m\u001b[0m\n\u001b[0;32m   4774\u001b[0m             \u001b[1;32mraise\u001b[0m \u001b[0mTypeError\u001b[0m\u001b[1;33m(\u001b[0m\u001b[1;34m\"loc must be int\"\u001b[0m\u001b[1;33m)\u001b[0m\u001b[1;33m\u001b[0m\u001b[1;33m\u001b[0m\u001b[0m\n\u001b[0;32m   4775\u001b[0m \u001b[1;33m\u001b[0m\u001b[0m\n",
      "\u001b[1;31mValueError\u001b[0m: cannot insert product_id, already exists"
     ]
    }
   ],
   "source": [
    "# Add product_id as the first column with unique values\n",
    "df_products.insert(0, 'product_id', range(1, len(df_products) + 1))"
   ]
  },
  {
   "cell_type": "code",
   "execution_count": 19,
   "id": "551d906c",
   "metadata": {},
   "outputs": [
    {
     "name": "stdout",
     "output_type": "stream",
     "text": [
      "   product_id        barcode           product_name  price brand  \\\n",
      "0           1  5010003064744          HOVIS 7 SEEDS   1.89  <NA>   \n",
      "1           2  5031390116816               CASHWORD   3.00  <NA>   \n",
      "2           3  5000143944921        STERLING KS TTT  11.99  <NA>   \n",
      "4           4  5014379012866          STELLA 10PACK  12.99  <NA>   \n",
      "5           5  5027908312368  SOFTEE DAFFODILS PINK   1.29  <NA>   \n",
      "\n",
      "        department measure  \n",
      "0           BAKERY    <NA>  \n",
      "1  INSTANT LOTTERY    <NA>  \n",
      "2          TOBACCO    <NA>  \n",
      "4          ALCOHOL    <NA>  \n",
      "5        GROCERIES    <NA>  \n"
     ]
    }
   ],
   "source": [
    "print(df_products.head())\n",
    "\n",
    "df_products.to_csv('data/final_data/new_products.csv', index=False)"
   ]
  }
 ],
 "metadata": {
  "kernelspec": {
   "display_name": "Python 3 (ipykernel)",
   "language": "python",
   "name": "python3"
  },
  "language_info": {
   "codemirror_mode": {
    "name": "ipython",
    "version": 3
   },
   "file_extension": ".py",
   "mimetype": "text/x-python",
   "name": "python",
   "nbconvert_exporter": "python",
   "pygments_lexer": "ipython3",
   "version": "3.11.5"
  }
 },
 "nbformat": 4,
 "nbformat_minor": 5
}
